{
 "cells": [
  {
   "cell_type": "markdown",
   "id": "1b299e21",
   "metadata": {},
   "source": [
    "# 🧠 IPL 2025 Twitter Sentiment Analysis"
   ]
  },
  {
   "cell_type": "markdown",
   "id": "d1a1a984",
   "metadata": {},
   "source": [
    "\n",
    "This notebook performs **sentiment analysis** on tweets related to `#IPL2025` as part of the Data Science Internship at **Brainwave Matrix Solutions**.\n"
   ]
  },
  {
   "cell_type": "code",
   "execution_count": null,
   "id": "933cc422",
   "metadata": {},
   "outputs": [],
   "source": [
    "\n",
    "import pandas as pd\n",
    "import matplotlib.pyplot as plt\n",
    "import seaborn as sns\n",
    "from textblob import TextBlob\n",
    "import re\n"
   ]
  },
  {
   "cell_type": "markdown",
   "id": "d97477dc",
   "metadata": {},
   "source": [
    "## 📥 Load Data"
   ]
  },
  {
   "cell_type": "code",
   "execution_count": null,
   "id": "527519dc",
   "metadata": {},
   "outputs": [],
   "source": [
    "\n",
    "df = pd.read_csv(\"IPL2025_Tweets_Sentiment.csv\")\n",
    "df.head()\n"
   ]
  },
  {
   "cell_type": "markdown",
   "id": "adb0c34f",
   "metadata": {},
   "source": [
    "## 🧹 Clean Tweets"
   ]
  },
  {
   "cell_type": "code",
   "execution_count": null,
   "id": "4c202308",
   "metadata": {},
   "outputs": [],
   "source": [
    "\n",
    "def clean_tweet(text):\n",
    "    text = text.lower()\n",
    "    text = re.sub(r'http\\S+|www.\\S+', '', text)\n",
    "    text = re.sub(r'@\\w+|#\\w+', '', text)\n",
    "    text = re.sub(r'[^\\w\\s]', '', text)\n",
    "    text = re.sub(r'\\d+', '', text)\n",
    "    text = re.sub(r'\\s+', ' ', text).strip()\n",
    "    return text\n",
    "\n",
    "df['Clean_Tweet'] = df['Tweet'].apply(clean_tweet)\n",
    "df[['Tweet', 'Clean_Tweet']].head()\n"
   ]
  },
  {
   "cell_type": "markdown",
   "id": "7f9ace99",
   "metadata": {},
   "source": [
    "## 🧠 Sentiment Analysis using TextBlob"
   ]
  },
  {
   "cell_type": "code",
   "execution_count": null,
   "id": "26a0b48d",
   "metadata": {},
   "outputs": [],
   "source": [
    "\n",
    "def get_polarity(text):\n",
    "    return TextBlob(text).sentiment.polarity\n",
    "\n",
    "def get_sentiment(p):\n",
    "    if p > 0:\n",
    "        return 'Positive'\n",
    "    elif p < 0:\n",
    "        return 'Negative'\n",
    "    else:\n",
    "        return 'Neutral'\n",
    "\n",
    "df['Polarity'] = df['Clean_Tweet'].apply(get_polarity)\n",
    "df['Sentiment'] = df['Polarity'].apply(get_sentiment)\n",
    "df[['Clean_Tweet', 'Polarity', 'Sentiment']].head()\n"
   ]
  },
  {
   "cell_type": "markdown",
   "id": "c2daab75",
   "metadata": {},
   "source": [
    "## 📊 Sentiment Distribution"
   ]
  },
  {
   "cell_type": "code",
   "execution_count": null,
   "id": "90dccf5a",
   "metadata": {},
   "outputs": [],
   "source": [
    "\n",
    "sns.set(style=\"whitegrid\")\n",
    "plt.figure(figsize=(8, 5))\n",
    "sns.countplot(data=df, x='Sentiment', palette='pastel')\n",
    "plt.title(\"Sentiment Distribution for #IPL2025 Tweets\")\n",
    "plt.xlabel(\"Sentiment\")\n",
    "plt.ylabel(\"Number of Tweets\")\n",
    "plt.show()\n"
   ]
  },
  {
   "cell_type": "markdown",
   "id": "79944701",
   "metadata": {},
   "source": [
    "## 📈 Sentiment Trend Over Time"
   ]
  },
  {
   "cell_type": "code",
   "execution_count": null,
   "id": "768861ff",
   "metadata": {},
   "outputs": [],
   "source": [
    "\n",
    "df['Date'] = pd.to_datetime(df['Date']).dt.date\n",
    "trend_data = df.groupby(['Date', 'Sentiment']).size().reset_index(name='Count')\n",
    "\n",
    "plt.figure(figsize=(12, 6))\n",
    "sns.lineplot(data=trend_data, x='Date', y='Count', hue='Sentiment', marker='o')\n",
    "plt.title(\"Sentiment Trend Over Time for #IPL2025\")\n",
    "plt.xlabel(\"Date\")\n",
    "plt.ylabel(\"Number of Tweets\")\n",
    "plt.xticks(rotation=45)\n",
    "plt.legend(title='Sentiment')\n",
    "plt.tight_layout()\n",
    "plt.show()\n"
   ]
  },
  {
   "cell_type": "markdown",
   "id": "d420a425",
   "metadata": {},
   "source": [
    "## ✅ Summary"
   ]
  },
  {
   "cell_type": "markdown",
   "id": "7e620de9",
   "metadata": {},
   "source": [
    "\n",
    "- Tweets were cleaned using regex-based preprocessing.\n",
    "- Sentiment analysis was done using TextBlob.\n",
    "- Most tweets were **Positive**, indicating overall excitement around IPL 2025.\n",
    "- Sentiment spikes aligned with key dates during the tournament.\n"
   ]
  }
 ],
 "metadata": {},
 "nbformat": 4,
 "nbformat_minor": 5
}
