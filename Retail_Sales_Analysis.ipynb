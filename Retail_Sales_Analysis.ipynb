{
 "cells": [
  {
   "cell_type": "markdown",
   "id": "99b8c77e",
   "metadata": {},
   "source": [
    "# 🛍️ Retail Sales Data Analysis\n",
    "\n",
    "This notebook analyzes sales data from a retail store to uncover trends and insights."
   ]
  },
  {
   "cell_type": "code",
   "execution_count": null,
   "id": "30398008",
   "metadata": {},
   "outputs": [],
   "source": [
    "import pandas as pd\n",
    "import matplotlib.pyplot as plt\n",
    "import seaborn as sns\n",
    "\n",
    "# Load the dataset\n",
    "df = pd.read_csv('sales_data.csv')\n",
    "df.head()"
   ]
  },
  {
   "cell_type": "markdown",
   "id": "cb9fa500",
   "metadata": {},
   "source": [
    "## 📊 Basic Information and Summary"
   ]
  },
  {
   "cell_type": "code",
   "execution_count": null,
   "id": "5f67d36c",
   "metadata": {},
   "outputs": [],
   "source": [
    "df.info()\n",
    "df.describe(include='all')"
   ]
  },
  {
   "cell_type": "markdown",
   "id": "6db8fd40",
   "metadata": {},
   "source": [
    "## 📈 Total Sales Calculation"
   ]
  },
  {
   "cell_type": "code",
   "execution_count": null,
   "id": "5939bb7b",
   "metadata": {},
   "outputs": [],
   "source": [
    "# Calculate Total Sales\n",
    "df['Total Sales'] = df['Units Sold'] * df['Unit Price']\n",
    "df.head()"
   ]
  },
  {
   "cell_type": "markdown",
   "id": "96cfaeeb",
   "metadata": {},
   "source": [
    "## 📍 Sales by Region"
   ]
  },
  {
   "cell_type": "code",
   "execution_count": null,
   "id": "db754e34",
   "metadata": {},
   "outputs": [],
   "source": [
    "region_sales = df.groupby('Region')['Total Sales'].sum().sort_values(ascending=False)\n",
    "region_sales.plot(kind='bar', figsize=(8,5), title='Total Sales by Region')\n",
    "plt.ylabel('Sales Amount')\n",
    "plt.tight_layout()\n",
    "plt.show()"
   ]
  },
  {
   "cell_type": "markdown",
   "id": "f4149b92",
   "metadata": {},
   "source": [
    "## 🧺 Sales by Category"
   ]
  },
  {
   "cell_type": "code",
   "execution_count": null,
   "id": "f3937f09",
   "metadata": {},
   "outputs": [],
   "source": [
    "category_sales = df.groupby('Category')['Total Sales'].sum().sort_values(ascending=False)\n",
    "category_sales.plot(kind='bar', color='orange', figsize=(8,5), title='Total Sales by Category')\n",
    "plt.ylabel('Sales Amount')\n",
    "plt.tight_layout()\n",
    "plt.show()"
   ]
  },
  {
   "cell_type": "markdown",
   "id": "4de43217",
   "metadata": {},
   "source": [
    "## 📅 Sales Over Time"
   ]
  },
  {
   "cell_type": "code",
   "execution_count": null,
   "id": "ba5044c4",
   "metadata": {},
   "outputs": [],
   "source": [
    "df['Date'] = pd.to_datetime(df['Date'])\n",
    "time_series = df.groupby('Date')['Total Sales'].sum()\n",
    "time_series.plot(figsize=(10,5), title='Sales Over Time')\n",
    "plt.ylabel('Sales')\n",
    "plt.xlabel('Date')\n",
    "plt.tight_layout()\n",
    "plt.show()"
   ]
  },
  {
   "cell_type": "markdown",
   "id": "f7b30e47",
   "metadata": {},
   "source": [
    "## 📌 Insights\n",
    "- The region with the highest sales is displayed in the bar chart.\n",
    "- Category performance varies; some categories significantly outperform others.\n",
    "- Sales trends over time highlight peak periods."
   ]
  }
 ],
 "metadata": {},
 "nbformat": 4,
 "nbformat_minor": 5
}
